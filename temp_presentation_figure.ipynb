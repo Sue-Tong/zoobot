{
 "cells": [
  {
   "cell_type": "code",
   "execution_count": 69,
   "id": "1449414b-b464-4242-b350-5181b87a9677",
   "metadata": {},
   "outputs": [],
   "source": [
    "import pandas as pd\n",
    "import seaborn as sns\n",
    "sns.set_context('notebook')\n",
    "import matplotlib.pyplot as plt"
   ]
  },
  {
   "cell_type": "code",
   "execution_count": 70,
   "id": "ad821bf4-b7ef-4d9b-ae2b-eb89692f3e7d",
   "metadata": {},
   "outputs": [],
   "source": [
    "tf = pd.read_csv('/users/walml/Downloads/wandb_tf_vit.csv')"
   ]
  },
  {
   "cell_type": "code",
   "execution_count": 71,
   "id": "5fdb479d-018a-47fe-9130-edce7c289270",
   "metadata": {},
   "outputs": [
    {
     "data": {
      "text/plain": [
       "array(['Step', 'vit_2xgpu_lowadam - tensorboard/validation/epoch_loss',\n",
       "       'vit_2xgpu_lowadam - tensorboard/validation/epoch_loss__MIN',\n",
       "       'vit_2xgpu_lowadam - tensorboard/validation/epoch_loss__MAX',\n",
       "       'vit_tiniest:2xgpu - tensorboard/validation/epoch_loss',\n",
       "       'vit_tiniest:2xgpu - tensorboard/validation/epoch_loss__MIN',\n",
       "       'vit_tiniest:2xgpu - tensorboard/validation/epoch_loss__MAX'],\n",
       "      dtype=object)"
      ]
     },
     "execution_count": 71,
     "metadata": {},
     "output_type": "execute_result"
    }
   ],
   "source": [
    "tf.columns.values"
   ]
  },
  {
   "cell_type": "code",
   "execution_count": 72,
   "id": "9c3c5e4f-f62c-4f8a-9dfb-c52fe8a91077",
   "metadata": {},
   "outputs": [],
   "source": [
    "b = pd.read_csv('/Users/walml/Downloads/wandb_baseline_tf.csv')"
   ]
  },
  {
   "cell_type": "code",
   "execution_count": 73,
   "id": "1b9cac8a-d55d-47fd-b14c-31025239552f",
   "metadata": {},
   "outputs": [
    {
     "data": {
      "text/plain": [
       "array(['Step', 'dr5_tf_co - tensorboard/validation/epoch_loss',\n",
       "       'dr5_tf_co - tensorboard/validation/epoch_loss__MIN',\n",
       "       'dr5_tf_co - tensorboard/validation/epoch_loss__MAX'], dtype=object)"
      ]
     },
     "execution_count": 73,
     "metadata": {},
     "output_type": "execute_result"
    }
   ],
   "source": [
    "b.columns.values"
   ]
  },
  {
   "cell_type": "code",
   "execution_count": 78,
   "id": "2e28e152-ebc5-41b7-97ae-e97de4439a9d",
   "metadata": {},
   "outputs": [
    {
     "data": {
      "text/plain": [
       "0           NaN\n",
       "1     10.163021\n",
       "2      9.857178\n",
       "3      9.059166\n",
       "4      9.059166\n",
       "        ...    \n",
       "57     7.160766\n",
       "58     7.142076\n",
       "59     7.128774\n",
       "60     7.127312\n",
       "61     7.178811\n",
       "Name: smoothed, Length: 62, dtype: float64"
      ]
     },
     "execution_count": 78,
     "metadata": {},
     "output_type": "execute_result"
    }
   ],
   "source": [
    "ts_factor = 0.5\n",
    "\n",
    "tf['smoothed'] = tf['vit_tiniest:2xgpu - tensorboard/validation/epoch_loss'].ewm(alpha=(1 - ts_factor)).mean()\n",
    "tf['smoothed']"
   ]
  },
  {
   "cell_type": "code",
   "execution_count": 79,
   "id": "f66c2736-dce6-49ae-841a-fdc8ae361740",
   "metadata": {},
   "outputs": [
    {
     "data": {
      "text/plain": [
       "0     10.901669\n",
       "1      9.597336\n",
       "2      8.651620\n",
       "3      8.435550\n",
       "4      8.320275\n",
       "        ...    \n",
       "69     7.138160\n",
       "70     7.128742\n",
       "71     7.107162\n",
       "72     7.090074\n",
       "73     7.090211\n",
       "Name: smoothed, Length: 74, dtype: float64"
      ]
     },
     "execution_count": 79,
     "metadata": {},
     "output_type": "execute_result"
    }
   ],
   "source": [
    "b['smoothed'] = b['dr5_tf_co - tensorboard/validation/epoch_loss'].ewm(alpha=(1 - ts_factor)).mean()\n",
    "b['smoothed']"
   ]
  },
  {
   "cell_type": "code",
   "execution_count": 98,
   "id": "cf2401ba-903b-446f-b5a6-83de1397081b",
   "metadata": {},
   "outputs": [
    {
     "data": {
      "image/png": "[encoded data removed]",
      "text/plain": [
       "<Figure size 360x252 with 1 Axes>"
      ]
     },
     "metadata": {},
     "output_type": "display_data"
    }
   ],
   "source": [
    "\n",
    "# sns.set(font_scale=2., style='white')\n",
    "plt.figure(figsize=(5, 3.5))\n",
    "sns.set_context('talk')\n",
    "# plt.plot(tf['Step'], ['vit_tiniest:2xgpu - tensorboard/validation/epoch_loss'], label='Transformer')\n",
    "plt.plot(tf['Step'], tf['smoothed'], label='Transformer')\n",
    "# validation/epoch_loss'], \n",
    "plt.plot(b['Step'], b['smoothed'], label='CNN', color='k', linestyle='--', alpha=.5)\n",
    "# plt.axhline(7.098)\n",
    "plt.ylim([7, 9])\n",
    "plt.xlim([0, 100])\n",
    "plt.xlabel('Epoch')\n",
    "plt.legend()\n",
    "plt.ylabel('Loss')\n",
    "# /plt.plot(tf['Step'], tf['vit_2xgpu_lowadam - tensorboard/\n",
    "plt.tight_layout()\n",
    "plt.savefig('comparison.pdf')\n",
    "plt.savefig('comparison.png')"
   ]
  },
  {
   "cell_type": "code",
   "execution_count": null,
   "id": "c6a716b8-82bd-46e2-9755-56f2f4b47a4e",
   "metadata": {},
   "outputs": [],
   "source": [
    "py = pd.read_csv('/users/walml/Downloads/wandb_pyt_vit.csv')\n",
    "py.columns.values"
   ]
  },
  {
   "cell_type": "code",
   "execution_count": null,
   "id": "c3cabd05-9d2d-46b0-9f07-e12f09ef80fb",
   "metadata": {},
   "outputs": [],
   "source": [
    "plt.plot(py['epoch'], py['maxvit:tiny_224_maxvit_tiny_1xgpu - val/supervised_loss_epoch'])\n",
    "plt.plot(py['epoch'], py['maxvit:tiniest_224_maxvit - val/supervised_loss_epoch'])\n",
    "plt.axhline(1.2)"
   ]
  },
  {
   "cell_type": "code",
   "execution_count": null,
   "id": "85ff3a01-72c4-497d-94de-084f8d72d00a",
   "metadata": {},
   "outputs": [],
   "source": []
  }
 ],
 "metadata": {
  "kernelspec": {
   "display_name": "Python 3 (ipykernel)",
   "language": "python",
   "name": "python3"
  },
  "language_info": {
   "codemirror_mode": {
    "name": "ipython",
    "version": 3
   },
   "file_extension": ".py",
   "mimetype": "text/x-python",
   "name": "python",
   "nbconvert_exporter": "python",
   "pygments_lexer": "ipython3",
   "version": "3.8.10"
  }
 },
 "nbformat": 4,
 "nbformat_minor": 5
}
